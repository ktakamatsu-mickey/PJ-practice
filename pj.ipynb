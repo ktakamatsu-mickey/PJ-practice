{
 "cells": [
  {
   "cell_type": "code",
   "execution_count": 277,
   "metadata": {},
   "outputs": [],
   "source": [
    "#辞書型\n",
    "item = {\n",
    "    \"りんご\":100,\n",
    "    \"みかん\":40,\n",
    "    \"ぶどう\":150,\n",
    "    \"のり弁\":350,\n",
    "    \"しゃけ弁\":400,\n",
    "    \"タバコ\":420,\n",
    "    \"メンソールタバコ\":440,\n",
    "    \"ライター\":100,\n",
    "    \"お茶\":80,\n",
    "    \"コーヒー\":100\n",
    "}"
   ]
  },
  {
   "cell_type": "code",
   "execution_count": 278,
   "metadata": {},
   "outputs": [
    {
     "name": "stdout",
     "output_type": "stream",
     "text": [
      "dict_keys(['りんご', 'みかん', 'ぶどう', 'のり弁', 'しゃけ弁', 'タバコ', 'メンソールタバコ', 'ライター', 'お茶', 'コーヒー'])\n",
      "dict_values([100, 40, 150, 350, 400, 420, 440, 100, 80, 100])\n",
      "100\n",
      "りんご\n",
      "100\n"
     ]
    }
   ],
   "source": [
    "#辞書　使い方\n",
    "\n",
    "print(item.keys())\n",
    "print(item.values())\n",
    "print(item[\"りんご\"])\n",
    "print(list(item.keys())[0])\n",
    "print(list(item.values())[0])"
   ]
  },
  {
   "cell_type": "code",
   "execution_count": 350,
   "metadata": {},
   "outputs": [],
   "source": [
    "#1\n",
    "shopping_list = {\n",
    "    \"りんご\":1,\n",
    "    \"みかん\":4\n",
    "}\n",
    "\n",
    "shopping_list_1 = {\n",
    "    1:0,\n",
    "    2:0,\n",
    "    3:0,\n",
    "    4:1,\n",
    "    5:1,\n",
    "    6:0,\n",
    "    7:0,\n",
    "    8:0,\n",
    "    9:1,\n",
    "    10:1\n",
    "}\n",
    "\n",
    "prod_id = {\n",
    "    1:\"りんご\",\n",
    "    2:\"みかん\",\n",
    "    3:\"ぶどう\",\n",
    "    4:\"のり弁\",\n",
    "    5:\"しゃけ弁\",\n",
    "    6:\"タバコ\",\n",
    "    7:\"メンソールタバコ\",\n",
    "    8:\"ライター\",\n",
    "    9:\"お茶\",\n",
    "    10:\"コーヒー\"\n",
    "}\n",
    "\n",
    "tax = 10\n",
    "\n",
    "bonus_dict = {k:0 for k in range(1,11)}"
   ]
  },
  {
   "attachments": {},
   "cell_type": "markdown",
   "metadata": {},
   "source": [
    "### 問1 合計金額"
   ]
  },
  {
   "cell_type": "code",
   "execution_count": 335,
   "metadata": {},
   "outputs": [
    {
     "data": {
      "text/plain": [
       "430"
      ]
     },
     "execution_count": 335,
     "metadata": {},
     "output_type": "execute_result"
    }
   ],
   "source": [
    "def calc_values(dict_shopping_list_1):\n",
    "    total_values = 0\n",
    "\n",
    "    for key,amount in dict_shopping_list_1.items():   \n",
    "        total_values += amount * item[prod_id[key]]\n",
    "\n",
    "    return total_values\n",
    "\n",
    "calc_values(shopping_list_1)"
   ]
  },
  {
   "attachments": {},
   "cell_type": "markdown",
   "metadata": {},
   "source": [
    "### 問２　消費税　\n",
    "商品リストの金額は外税なので、合計金額に消費税8％を足して、支払金額を返すようにしよう。"
   ]
  },
  {
   "cell_type": "code",
   "execution_count": 336,
   "metadata": {},
   "outputs": [
    {
     "data": {
      "text/plain": [
       "473.00000000000006"
      ]
     },
     "execution_count": 336,
     "metadata": {},
     "output_type": "execute_result"
    }
   ],
   "source": [
    "def calc_values_tax(dict_shopping_list_1):\n",
    "    total_values = 0\n",
    "\n",
    "    for key,amount in dict_shopping_list_1.items():   \n",
    "        total_values += amount * item[prod_id[key]]*(1+tax/100)\n",
    "        \n",
    "    return total_values\n",
    "\n",
    "calc_values_tax(shopping_list_1)"
   ]
  },
  {
   "attachments": {},
   "cell_type": "markdown",
   "metadata": {},
   "source": [
    "### 問３　タバコの消費税　\n",
    "タバコの価格には消費税が含まれているので(内税)、消費税の計算からタバコは除かないといけない。"
   ]
  },
  {
   "cell_type": "code",
   "execution_count": 337,
   "metadata": {},
   "outputs": [
    {
     "data": {
      "text/plain": [
       "473.00000000000006"
      ]
     },
     "execution_count": 337,
     "metadata": {},
     "output_type": "execute_result"
    }
   ],
   "source": [
    "def calc_values_tax(dict_shopping_list_1):\n",
    "    total_values = 0\n",
    "\n",
    "    for key,amount in dict_shopping_list_1.items():\n",
    "        if key == 6 or key == 7:\n",
    "            total_values += amount * item[prod_id[key]]\n",
    "        else :\n",
    "            total_values += amount * item[prod_id[key]]*(1+tax/100)\n",
    "\n",
    "    return total_values\n",
    "\n",
    "calc_values_tax(shopping_list_1)"
   ]
  },
  {
   "attachments": {},
   "cell_type": "markdown",
   "metadata": {},
   "source": [
    "### 問４　割引\n",
    "リンゴは1個100円だが、3つ買うと280円になる。"
   ]
  },
  {
   "cell_type": "code",
   "execution_count": 338,
   "metadata": {},
   "outputs": [
    {
     "data": {
      "text/plain": [
       "473.00000000000006"
      ]
     },
     "execution_count": 338,
     "metadata": {},
     "output_type": "execute_result"
    }
   ],
   "source": [
    "def calc_values_tax(dict_shopping_list_1):\n",
    "    total_values = 0\n",
    "\n",
    "    for key,amount in dict_shopping_list_1.items():\n",
    "        if key == 1:\n",
    "            total_values += ((amount//3)*280 + (amount%3)*100) * (1+tax/100)\n",
    "        elif key == 6 or key == 7:\n",
    "            total_values += amount * item[prod_id[key]]\n",
    "        else :\n",
    "            total_values += amount * item[prod_id[key]]*(1+tax/100)\n",
    "\n",
    "    return total_values\n",
    "\n",
    "calc_values_tax(shopping_list_1)"
   ]
  },
  {
   "cell_type": "code",
   "execution_count": 339,
   "metadata": {},
   "outputs": [
    {
     "data": {
      "text/plain": [
       "473.00000000000006"
      ]
     },
     "execution_count": 339,
     "metadata": {},
     "output_type": "execute_result"
    }
   ],
   "source": [
    "def bonus(dict_shopping_list_1):\n",
    "    apple = dict_shopping_list_1[1]//3\n",
    "    bonus_dict.update({1:apple*20*(1+tax/100)})\n",
    "\n",
    "def calc_values_tax(dict_shopping_list_1):\n",
    "    total_values = 0\n",
    "    bonus(dict_shopping_list_1)\n",
    "\n",
    "    for key,amount in dict_shopping_list_1.items():\n",
    "        if key == 6 or key == 7:\n",
    "            total_values += amount * item[prod_id[key]]\n",
    "        else :\n",
    "            total_values += amount * item[prod_id[key]]*(1+tax/100)\n",
    "    \n",
    "    total_values  -= sum(bonus_dict.values())\n",
    "    return total_values\n",
    "\n",
    "calc_values_tax(shopping_list_1)"
   ]
  },
  {
   "attachments": {},
   "cell_type": "markdown",
   "metadata": {},
   "source": [
    "### 問５　おまけ\n",
    "なんでも、同じものを10個買うと、1個おまけでもらえる。11個で10個ぶんの金額（12個で11個分、20個で19個分、22個で20個ぶん、...)という形で実現しよう。\n",
    "\n"
   ]
  },
  {
   "cell_type": "code",
   "execution_count": 340,
   "metadata": {},
   "outputs": [
    {
     "data": {
      "text/plain": [
       "473.00000000000006"
      ]
     },
     "execution_count": 340,
     "metadata": {},
     "output_type": "execute_result"
    }
   ],
   "source": [
    "bonus_dict = {k:0 for k in range(1,11)}\n",
    "\n",
    "def apple(dict_shopping_list_1):\n",
    "    apple = dict_shopping_list_1[1]//3\n",
    "    bonus_dict.update({1:apple*20*(1+tax/100)})\n",
    "\n",
    "def bonus(dict_shopping_list_1):\n",
    "    apple(dict_shopping_list_1)\n",
    "    \n",
    "    for key,amount in dict_shopping_list_1.items():\n",
    "        bonuses_amount = 0\n",
    "        if amount>=10:\n",
    "            bonuses = amount//10\n",
    "            if key == 6 or key == 7:\n",
    "                bonuses_amount = bonuses * item[prod_id[key]]\n",
    "            else:\n",
    "                bonuses_amount = bonuses * item[prod_id[key]]*(1+tax/100)\n",
    "                \n",
    "            if bonus_dict[key] < bonuses_amount:\n",
    "                bonus_dict.update({key:bonuses_amount})\n",
    "            else:\n",
    "                continue\n",
    "        else:\n",
    "            continue\n",
    "            \n",
    "\n",
    "def calc_values_tax(dict_shopping_list_1):\n",
    "    total_values = 0\n",
    "    bonus(dict_shopping_list_1)\n",
    "\n",
    "    for key,amount in dict_shopping_list_1.items():\n",
    "        if key == 6 or key == 7:\n",
    "            total_values += amount * item[prod_id[key]]\n",
    "        else :\n",
    "            total_values += amount * item[prod_id[key]]*(1+tax/100)\n",
    "    \n",
    "    total_values  -= sum(bonus_dict.values())\n",
    "    return total_values\n",
    "\n",
    "calc_values_tax(shopping_list_1)"
   ]
  },
  {
   "attachments": {},
   "cell_type": "markdown",
   "metadata": {},
   "source": [
    "### 問６　おまけのライター\n",
    "タバコを1カートン(10個)買うと、ライターがおまけでもらえる。引数にライターがあったら無料になるというふうに実現しよう。"
   ]
  },
  {
   "cell_type": "code",
   "execution_count": 341,
   "metadata": {},
   "outputs": [
    {
     "data": {
      "text/plain": [
       "473.00000000000006"
      ]
     },
     "execution_count": 341,
     "metadata": {},
     "output_type": "execute_result"
    }
   ],
   "source": [
    "def apple(dict_shopping_list_1):\n",
    "    apple = dict_shopping_list_1[1]//3\n",
    "    bonus_dict.update({1:apple*20*(1+tax/100)})\n",
    "\n",
    "def same_10(dict_shopping_list_1):\n",
    "    for key,amount in dict_shopping_list_1.items():\n",
    "        if amount>=10:\n",
    "            bonuses = amount//10\n",
    "            if key == 6 or key == 7:\n",
    "                bonuses_amount = bonuses * item[prod_id[key]]\n",
    "            else :\n",
    "                bonuses_amount = bonuses * item[prod_id[key]]*(1+tax/100)\n",
    "            if bonus_dict[key] < bonuses_amount:\n",
    "                bonus_dict.update({key:bonuses_amount})\n",
    "            else:\n",
    "                continue\n",
    "        else:\n",
    "            continue\n",
    "\n",
    "def bonus(dict_shopping_list_1):\n",
    "    apple(dict_shopping_list_1)\n",
    "    same_10(dict_shopping_list_1)\n",
    "    if dict_shopping_list_1[6] >= 10 and dict_shopping_list_1[8]>0:\n",
    "        lighter = dict_shopping_list_1[6]//10\n",
    "        lighter_amount = lighter * 100 *(1+tax/100)\n",
    "        if bonus_dict[8] <= lighter_amount:\n",
    "            bonus_dict.update({8:lighter_amount})\n",
    "    \n",
    "\n",
    "def calc_values_tax(dict_shopping_list_1):\n",
    "    total_values = 0\n",
    "    bonus(dict_shopping_list_1)\n",
    "\n",
    "    for key,amount in dict_shopping_list_1.items():\n",
    "        if key == 6 or key == 7:\n",
    "            total_values += amount * item[prod_id[key]]\n",
    "        else :\n",
    "            total_values += amount * item[prod_id[key]]*(1+tax/100)\n",
    "    \n",
    "    total_values  -= sum(bonus_dict.values())\n",
    "    return total_values\n",
    "\n",
    "bonus_dict = {k:0 for k in range(1,12)}\n",
    "calc_values_tax(shopping_list_1)"
   ]
  },
  {
   "attachments": {},
   "cell_type": "markdown",
   "metadata": {},
   "source": [
    "### 問７　お弁当\n",
    "弁当類と飲み物(お茶とコーヒー)をいっしょに買うと、20円引きになる。"
   ]
  },
  {
   "cell_type": "code",
   "execution_count": 343,
   "metadata": {},
   "outputs": [
    {
     "data": {
      "text/plain": [
       "453.00000000000006"
      ]
     },
     "execution_count": 343,
     "metadata": {},
     "output_type": "execute_result"
    }
   ],
   "source": [
    "def apple(dict_shopping_list_1):\n",
    "    apple = dict_shopping_list_1[1]//3\n",
    "    bonus_dict.update({1:apple*20*(1+tax/100)})\n",
    "\n",
    "def same_10(dict_shopping_list_1):\n",
    "    for key,amount in dict_shopping_list_1.items():\n",
    "        if amount>=10:\n",
    "            bonuses = amount//10\n",
    "            if key == 6 or key == 7:\n",
    "                bonuses_amount = bonuses * item[prod_id[key]]\n",
    "            else :\n",
    "                bonuses_amount = bonuses * item[prod_id[key]]*(1+tax/100)\n",
    "    \n",
    "            if bonus_dict[key] < bonuses_amount:\n",
    "                bonus_dict.update({key:bonuses_amount})\n",
    "        else:\n",
    "            continue \n",
    "\n",
    "def bonus_lighter(dict_shopping_list_1):\n",
    "    if dict_shopping_list_1[6] >= 10 and dict_shopping_list_1[8]>0:\n",
    "        lighter = dict_shopping_list_1[6]//10\n",
    "        lighter_amount = lighter * 100 *(1+tax/100)\n",
    "        if bonus_dict[8] <= lighter_amount:\n",
    "            bonus_dict.update({8:lighter_amount})\n",
    "\n",
    "def bonus(dict_shopping_list_1):\n",
    "    apple(dict_shopping_list_1)\n",
    "    same_10(dict_shopping_list_1)\n",
    "    bonus_lighter(dict_shopping_list_1)\n",
    "    if (dict_shopping_list_1[4]>0 or dict_shopping_list_1[5]>0) and (dict_shopping_list_1[9]>0 or dict_shopping_list_1[10]>0):\n",
    "        lunch_box = dict_shopping_list_1[4] + dict_shopping_list_1[5]\n",
    "        beverages = dict_shopping_list_1[9] + dict_shopping_list_1[10]\n",
    "        set_sales = 20 * min(lunch_box, beverages)\n",
    "        bonus_dict.update({11:set_sales})\n",
    "\n",
    "def net_total(dict_shopping_list_1):\n",
    "    total_values = 0\n",
    "    for key,amount in dict_shopping_list_1.items():\n",
    "        if key == 6 or key == 7:\n",
    "            total_values += amount * item[prod_id[key]]\n",
    "        else :\n",
    "            total_values += amount * item[prod_id[key]]*(1+tax/100)\n",
    "    return total_values\n",
    "\n",
    "def calc_values_tax(dict_shopping_list_1):\n",
    "    total_values = 0\n",
    "    bonus(dict_shopping_list_1)\n",
    "    total_values = net_total(dict_shopping_list_1)\n",
    "    total_values -= sum(bonus_dict.values())\n",
    "    return total_values\n",
    "\n",
    "bonus_dict = {k:0 for k in range(1,12)}\n",
    "calc_values_tax(shopping_list_1)\n"
   ]
  },
  {
   "attachments": {},
   "cell_type": "markdown",
   "metadata": {},
   "source": [
    "### 問８　サービスしすぎない\n",
    "問4～7のようなサービスは、同じ商品については重複しない。一番安くなるものをひとつだけ適用する。"
   ]
  },
  {
   "cell_type": "code",
   "execution_count": 352,
   "metadata": {},
   "outputs": [
    {
     "data": {
      "text/plain": [
       "3663.0000000000005"
      ]
     },
     "execution_count": 352,
     "metadata": {},
     "output_type": "execute_result"
    }
   ],
   "source": [
    "shopping_list_1 = {\n",
    "    1:0,\n",
    "    2:0,\n",
    "    3:0,\n",
    "    4:10,\n",
    "    5:0,\n",
    "    6:0,\n",
    "    7:0,\n",
    "    8:0,\n",
    "    9:1,\n",
    "    10:1\n",
    "}\n",
    "\n",
    "def apple():\n",
    "    apple = shopping_list_1[1]//3\n",
    "    bonus_dict.update({1:apple*20*(1+tax/100)})\n",
    "\n",
    "def same_10():\n",
    "    for key,amount in shopping_list_1.items():\n",
    "        if amount>=10:\n",
    "            bonuses = amount//10\n",
    "            if key == 6 or key == 7:\n",
    "                bonuses_amount = bonuses * item[prod_id[key]]\n",
    "            else :\n",
    "                bonuses_amount = bonuses * item[prod_id[key]]*(1+tax/100)\n",
    "    \n",
    "            if bonus_dict[key] < bonuses_amount:\n",
    "                bonus_dict.update({key:bonuses_amount})\n",
    "        else:\n",
    "            continue \n",
    "\n",
    "def bonus_lighter():\n",
    "    if shopping_list_1[6] >= 10 and shopping_list_1[8]>0:\n",
    "        lighter = shopping_list_1[6]//10\n",
    "        lighter_amount = lighter * 100 *(1+tax/100)\n",
    "        if bonus_dict[8] <= lighter_amount:\n",
    "            bonus_dict.update({8:lighter_amount})\n",
    "\n",
    "def set_bonus():\n",
    "    if (shopping_list_1[4]>0 or shopping_list_1[5]>0) and (shopping_list_1[9]>0 or shopping_list_1[10]>0):\n",
    "        lunch_box = shopping_list_1[4] + shopping_list_1[5]\n",
    "        beverages = shopping_list_1[9] + shopping_list_1[10]\n",
    "        set_sales = 20 * min(lunch_box, beverages)\n",
    "        if bonus_dict[4] + bonus_dict[5] + bonus_dict[9] + bonus_dict[10] < set_sales:\n",
    "            bonus_dict.update({11:set_sales})\n",
    "        \n",
    "\n",
    "def bonus():\n",
    "    apple()\n",
    "    same_10()\n",
    "    bonus_lighter()\n",
    "    set_bonus()\n",
    "    \n",
    "\n",
    "def net_total():\n",
    "    total_values = 0\n",
    "    for key,amount in shopping_list_1.items():\n",
    "        if key == 6 or key == 7:\n",
    "            total_values += amount * item[prod_id[key]]\n",
    "        else :\n",
    "            total_values += amount * item[prod_id[key]]*(1+tax/100)\n",
    "    return total_values\n",
    "\n",
    "def calc_values_tax():\n",
    "    total_values = 0\n",
    "    bonus()\n",
    "    total_values = net_total()\n",
    "    total_values -= sum(bonus_dict.values())\n",
    "    return total_values\n",
    "\n",
    "bonus_dict = {k:0 for k in range(1,12)}\n",
    "calc_values_tax()"
   ]
  },
  {
   "attachments": {},
   "cell_type": "markdown",
   "metadata": {},
   "source": [
    "### 問９　タイムセール\n",
    "お弁当は20時を過ぎると半額になる。"
   ]
  },
  {
   "cell_type": "code",
   "execution_count": 368,
   "metadata": {},
   "outputs": [
    {
     "data": {
      "text/plain": [
       "370.5000000000001"
      ]
     },
     "execution_count": 368,
     "metadata": {},
     "output_type": "execute_result"
    }
   ],
   "source": [
    "import datetime\n",
    "\n",
    "shopping_list_1 = {\n",
    "    1:0,\n",
    "    2:0,\n",
    "    3:0,\n",
    "    4:1,\n",
    "    5:0,\n",
    "    6:0,\n",
    "    7:0,\n",
    "    8:0,\n",
    "    9:1,\n",
    "    10:1\n",
    "}\n",
    "\n",
    "def apple():\n",
    "    apple = shopping_list_1[1]//3\n",
    "    bonus_dict.update({1:apple*20*(1+tax/100)})\n",
    "\n",
    "def same_10():\n",
    "    for key,amount in shopping_list_1.items():\n",
    "        if amount>=10:\n",
    "            bonuses = amount//10\n",
    "            if key == 6 or key == 7:\n",
    "                bonuses_amount = bonuses * item[prod_id[key]]\n",
    "            else :\n",
    "                bonuses_amount = bonuses * item[prod_id[key]]*(1+tax/100)\n",
    "    \n",
    "            if bonus_dict[key] < bonuses_amount:\n",
    "                bonus_dict.update({key:bonuses_amount})\n",
    "        else:\n",
    "            continue \n",
    "\n",
    "def bonus_lighter():\n",
    "    if shopping_list_1[6] >= 10 and shopping_list_1[8]>0:\n",
    "        lighter = shopping_list_1[6]//10\n",
    "        lighter_amount = lighter * 100 *(1+tax/100)\n",
    "        if bonus_dict[8] <= lighter_amount:\n",
    "            bonus_dict.update({8:lighter_amount})\n",
    "\n",
    "def set_bonus():\n",
    "    if (shopping_list_1[4]>0 or shopping_list_1[5]>0) and (shopping_list_1[9]>0 or shopping_list_1[10]>0):\n",
    "        lunch_box = shopping_list_1[4] + shopping_list_1[5]\n",
    "        beverages = shopping_list_1[9] + shopping_list_1[10]\n",
    "        set_sales = 20 * min(lunch_box, beverages)\n",
    "        if bonus_dict[4] + bonus_dict[5] + bonus_dict[9] + bonus_dict[10] < set_sales:\n",
    "            bonus_dict.update({11:set_sales})\n",
    "\n",
    "def time_sale():\n",
    "    dt_now = datetime.datetime.now()\n",
    "    if dt_now.hour >= 10:\n",
    "        lunch_sale = (shopping_list_1[4] * item[prod_id[4]] + shopping_list_1[5] * item[prod_id[5]]) *(1+tax/100) / 2\n",
    "        bonus_dict.update({12:lunch_sale})\n",
    "\n",
    "def bonus():\n",
    "    apple()\n",
    "    same_10()\n",
    "    bonus_lighter()\n",
    "    set_bonus()\n",
    "    time_sale()\n",
    "    \n",
    "\n",
    "def net_total():\n",
    "    total_values = 0\n",
    "    for key,amount in shopping_list_1.items():\n",
    "        if key == 6 or key == 7:\n",
    "            total_values += amount * item[prod_id[key]]\n",
    "        else :\n",
    "            total_values += amount * item[prod_id[key]]*(1+tax/100)\n",
    "    return total_values\n",
    "\n",
    "def calc_values_tax():\n",
    "    total_values = 0\n",
    "    bonus()\n",
    "    total_values = net_total()\n",
    "    total_values -= sum(bonus_dict.values())\n",
    "    return total_values\n",
    "\n",
    "bonus_dict = {k:0 for k in range(1,13)}\n",
    "calc_values_tax()"
   ]
  },
  {
   "attachments": {},
   "cell_type": "markdown",
   "metadata": {},
   "source": [
    "### 問１０　タイムセールスとサービス\n",
    "お弁当のタイムセールは、他のサービスと重複してよい。"
   ]
  },
  {
   "cell_type": "code",
   "execution_count": null,
   "metadata": {},
   "outputs": [],
   "source": [
    "import datetime\n",
    "\n",
    "shopping_list_1 = {\n",
    "    1:0,\n",
    "    2:0,\n",
    "    3:0,\n",
    "    4:1,\n",
    "    5:0,\n",
    "    6:0,\n",
    "    7:0,\n",
    "    8:0,\n",
    "    9:1,\n",
    "    10:1\n",
    "}\n",
    "\n",
    "def apple():\n",
    "    apple = shopping_list_1[1]//3\n",
    "    bonus_dict.update({1:apple*20*(1+tax/100)})\n",
    "\n",
    "def same_10():\n",
    "    for key,amount in shopping_list_1.items():\n",
    "        if amount>=10:\n",
    "            bonuses = amount//10\n",
    "            if key == 6 or key == 7:\n",
    "                bonuses_amount = bonuses * item[prod_id[key]]\n",
    "            else :\n",
    "                bonuses_amount = bonuses * item[prod_id[key]]*(1+tax/100)\n",
    "    \n",
    "            if bonus_dict[key] < bonuses_amount:\n",
    "                bonus_dict.update({key:bonuses_amount})\n",
    "        else:\n",
    "            continue \n",
    "\n",
    "def bonus_lighter():\n",
    "    if shopping_list_1[6] >= 10 and shopping_list_1[8]>0:\n",
    "        lighter = shopping_list_1[6]//10\n",
    "        lighter_amount = lighter * 100 *(1+tax/100)\n",
    "        if bonus_dict[8] <= lighter_amount:\n",
    "            bonus_dict.update({8:lighter_amount})\n",
    "\n",
    "def set_bonus():\n",
    "    if (shopping_list_1[4]>0 or shopping_list_1[5]>0) and (shopping_list_1[9]>0 or shopping_list_1[10]>0):\n",
    "        lunch_box = shopping_list_1[4] + shopping_list_1[5]\n",
    "        beverages = shopping_list_1[9] + shopping_list_1[10]\n",
    "        set_sales = 20 * min(lunch_box, beverages)\n",
    "        if bonus_dict[4] + bonus_dict[5] + bonus_dict[9] + bonus_dict[10] < set_sales:\n",
    "            bonus_dict.update({11:set_sales})\n",
    "\n",
    "def time_sale():\n",
    "    dt_now = datetime.datetime.now()\n",
    "    if dt_now.hour >= 20:\n",
    "        lunch_sale = (shopping_list_1[4] * item[prod_id[4]] + shopping_list_1[5] * item[prod_id[5]]) *(1+tax/100) / 2\n",
    "        bonus_dict.update({12:lunch_sale})\n",
    "\n",
    "def bonus():\n",
    "    apple()\n",
    "    same_10()\n",
    "    bonus_lighter()\n",
    "    set_bonus()\n",
    "    time_sale()\n",
    "    \n",
    "\n",
    "def net_total():\n",
    "    total_values = 0\n",
    "    for key,amount in shopping_list_1.items():\n",
    "        if key == 6 or key == 7:\n",
    "            total_values += amount * item[prod_id[key]]\n",
    "        else :\n",
    "            total_values += amount * item[prod_id[key]]*(1+tax/100)\n",
    "    return total_values\n",
    "\n",
    "def calc_values_tax():\n",
    "    total_values = 0\n",
    "    bonus()\n",
    "    total_values = net_total()\n",
    "    total_values -= sum(bonus_dict.values())\n",
    "    return total_values\n",
    "\n",
    "bonus_dict = {k:0 for k in range(1,13)}\n",
    "calc_values_tax()"
   ]
  }
 ],
 "metadata": {
  "kernelspec": {
   "display_name": "base",
   "language": "python",
   "name": "python3"
  },
  "language_info": {
   "codemirror_mode": {
    "name": "ipython",
    "version": 3
   },
   "file_extension": ".py",
   "mimetype": "text/x-python",
   "name": "python",
   "nbconvert_exporter": "python",
   "pygments_lexer": "ipython3",
   "version": "3.9.6"
  },
  "orig_nbformat": 4
 },
 "nbformat": 4,
 "nbformat_minor": 2
}
