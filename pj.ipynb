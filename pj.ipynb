{
 "cells": [
  {
   "attachments": {},
   "cell_type": "markdown",
   "metadata": {},
   "source": [
    "\n",
    "# スーパーの支払金額計算\n",
    "\n",
    "スーパーで買い物したときの支払金額を計算する\n",
    "\n",
    "以下の商品リストがあるとする。先頭の数字は商品番号。\n",
    "\n",
    "1. りんご 100円\n",
    "2. みかん 40円\n",
    "3. ぶどう 150円\n",
    "4. のり弁 350円\n",
    "5. しゃけ弁 400円\n",
    "6. タバコ 420円\n",
    "7. メンソールタバコ 440円\n",
    "8. ライター 100円\n",
    "9. お茶 80円\n",
    "10. コーヒー 100円\n",
    "\n",
    "以下の順番で、仕様を追加・実装していく。\n",
    "\n",
    "## お題1 合計金額\n",
    "\n",
    "商品番号と個数を複数組、引数として受け取り、合計金額を計算する関数を書いてみよう。\n",
    "\n",
    "ヒント: 複数のものを受け取るために、配列やリストで一括で渡す方法がある。あるいは、1つ渡す関数を何回も呼び出して、最後に合計金額を計算する関数を呼び出すという形式もある。両方のアプローチをTDDで実装し見比べて、どちらが良いか判断してみよう。\n",
    "\n",
    "いきなり書くのが難しかったら、以下の補題をやってみるとよい。\n",
    "\n",
    "### 補題1\n",
    "\n",
    "商品番号を渡すと、1個あたりの金額を計算する関数を書いてみよう。\n",
    "\n",
    "### 補題2\n",
    "\n",
    "商品番号を複数渡すと、個数1個として金額を合計する関数を書いてみよう。\n",
    "\n",
    "## お題2 消費税\n",
    "\n",
    "商品リストの金額は外税なので、合計金額に消費税8％を足して、支払金額を返すようにしよう。\n",
    "\n",
    "## お題3 タバコの消費税\n",
    "\n",
    "タバコの価格には消費税が含まれているので(内税)、消費税の計算からタバコは除かないといけない。\n",
    "\n",
    "## お題4 割引\n",
    "\n",
    "リンゴは1個100円だが、3つ買うと280円になる。\n",
    "\n",
    "## お題5 おまけ\n",
    "\n",
    "なんでも、同じものを10個買うと、1個おまけでもらえる。11個で10個ぶんの金額（12個で11個分、20個で19個分、22個で20個ぶん、...)という形で実現しよう。\n",
    "\n",
    "## お題6 おまけのライター\n",
    "\n",
    "タバコを1カートン(10個)買うと、ライターがおまけでもらえる。引数にライターがあったら無料になるというふうに実現しよう。\n",
    "\n",
    "## お題7 お弁当\n",
    "\n",
    "弁当類と飲み物(お茶とコーヒー)をいっしょに買うと、20円引きになる。\n",
    "\n",
    "## お題8 サービスしすぎない\n",
    "\n",
    "お題4～7のようなサービスは、同じ商品については重複しない。一番安くなるものをひとつだけ適用する。\n",
    "\n",
    "## お題9 タイムセール\n",
    "\n",
    "お弁当は20時を過ぎると半額になる。\n",
    "\n",
    "## お題10 タイムセールとサービス\n",
    "\n",
    "お弁当のタイムセールは、他のサービスと重複してよい。"
   ]
  },
  {
   "cell_type": "code",
   "execution_count": 51,
   "metadata": {},
   "outputs": [],
   "source": [
    "#辞書型\n",
    "item = {\n",
    "    \"りんご\":100,\n",
    "    \"みかん\":40,\n",
    "    \"ぶどう\":150,\n",
    "    \"のり弁\":350,\n",
    "    \"しゃけ弁\":400,\n",
    "    \"タバコ\":420,\n",
    "    \"メンソールタバコ\":440,\n",
    "    \"ライター\":100,\n",
    "    \"お茶\":80,\n",
    "    \"コーヒー\":100\n",
    "}"
   ]
  },
  {
   "cell_type": "code",
   "execution_count": 52,
   "metadata": {},
   "outputs": [
    {
     "name": "stdout",
     "output_type": "stream",
     "text": [
      "dict_keys(['りんご', 'みかん', 'ぶどう', 'のり弁', 'しゃけ弁', 'タバコ', 'メンソールタバコ', 'ライター', 'お茶', 'コーヒー'])\n",
      "dict_values([100, 40, 150, 350, 400, 420, 440, 100, 80, 100])\n",
      "100\n",
      "りんご\n",
      "100\n"
     ]
    }
   ],
   "source": [
    "#辞書　使い方\n",
    "\n",
    "print(item.keys())\n",
    "print(item.values())\n",
    "print(item[\"りんご\"])\n",
    "print(list(item.keys())[0])\n",
    "print(list(item.values())[0])"
   ]
  },
  {
   "cell_type": "code",
   "execution_count": 53,
   "metadata": {},
   "outputs": [
    {
     "data": {
      "text/plain": [
       "{'りんご': 1,\n",
       " 'みかん': 4,\n",
       " 'ぶどう': 5,\n",
       " 'のり弁': 3,\n",
       " 'しゃけ弁': 4,\n",
       " 'タバコ': 2,\n",
       " 'メンソールタバコ': 4,\n",
       " 'ライター': 1,\n",
       " 'お茶': 8,\n",
       " 'コーヒー': 1}"
      ]
     },
     "execution_count": 53,
     "metadata": {},
     "output_type": "execute_result"
    }
   ],
   "source": [
    "#1\n",
    "shopping_list = {\n",
    "    \"りんご\":1,\n",
    "    \"みかん\":4,\n",
    "    \"ぶどう\":5,\n",
    "    \"のり弁\":3,\n",
    "    \"しゃけ弁\":4,\n",
    "    \"タバコ\":2,\n",
    "    \"メンソールタバコ\":4,\n",
    "    \"ライター\":1,\n",
    "    \"お茶\":8,\n",
    "    \"コーヒー\":1\n",
    "}\n",
    "\n",
    "\n",
    "shopping_list"
   ]
  },
  {
   "cell_type": "code",
   "execution_count": 54,
   "metadata": {},
   "outputs": [
    {
     "data": {
      "text/plain": [
       "7100"
      ]
     },
     "execution_count": 54,
     "metadata": {},
     "output_type": "execute_result"
    }
   ],
   "source": [
    "total_values = 0\n",
    "\n",
    "for key in shopping_list:   \n",
    "    total_values += shopping_list[key] * item[key]\n",
    "\n",
    "total_values\n"
   ]
  },
  {
   "cell_type": "code",
   "execution_count": 55,
   "metadata": {},
   "outputs": [
    {
     "data": {
      "text/plain": [
       "7100"
      ]
     },
     "execution_count": 55,
     "metadata": {},
     "output_type": "execute_result"
    }
   ],
   "source": [
    "total_values = 0\n",
    "\n",
    "for key,amount in shopping_list.items():   \n",
    "    total_values += amount * item[key]\n",
    "\n",
    "total_values"
   ]
  },
  {
   "cell_type": "code",
   "execution_count": 56,
   "metadata": {},
   "outputs": [],
   "source": [
    "# def calc_values1(dict_item,dict_shopping_list):\n",
    "#     total_values = 0\n",
    "\n",
    "#     for key,amount in dict_shopping_list.items():   \n",
    "#         total_values += amount * dict_item[key]\n",
    "\n",
    "#     return total_values"
   ]
  },
  {
   "cell_type": "code",
   "execution_count": 57,
   "metadata": {},
   "outputs": [],
   "source": [
    "def calc_values2(dict_shopping_list):\n",
    "    total_values = 0\n",
    "\n",
    "    for key,amount in dict_shopping_list.items():   \n",
    "        total_values += amount * item[key]\n",
    "\n",
    "    return total_values"
   ]
  },
  {
   "cell_type": "code",
   "execution_count": 58,
   "metadata": {},
   "outputs": [
    {
     "data": {
      "text/plain": [
       "7100"
      ]
     },
     "execution_count": 58,
     "metadata": {},
     "output_type": "execute_result"
    }
   ],
   "source": [
    "calc_values2(shopping_list)"
   ]
  },
  {
   "cell_type": "code",
   "execution_count": 59,
   "metadata": {},
   "outputs": [
    {
     "data": {
      "text/plain": [
       "{1: 'りんご',\n",
       " 2: 'みかん',\n",
       " 3: 'ぶどう',\n",
       " 4: 'のり弁',\n",
       " 5: 'しゃけ弁',\n",
       " 6: 'タバコ',\n",
       " 7: 'メンソールタバコ',\n",
       " 8: 'ライター',\n",
       " 9: 'お茶',\n",
       " 10: 'コーヒー'}"
      ]
     },
     "execution_count": 59,
     "metadata": {},
     "output_type": "execute_result"
    }
   ],
   "source": [
    "prod_id={\n",
    "    1:\"りんご\",\n",
    "    2:\"みかん\",\n",
    "    3:\"ぶどう\",\n",
    "    4:\"のり弁\",\n",
    "    5:\"しゃけ弁\",\n",
    "    6:\"タバコ\",\n",
    "    7:\"メンソールタバコ\",\n",
    "    8:\"ライター\",\n",
    "    9:\"お茶\",\n",
    "    10:\"コーヒー\"\n",
    "}\n",
    "prod_id"
   ]
  },
  {
   "cell_type": "code",
   "execution_count": 60,
   "metadata": {},
   "outputs": [],
   "source": [
    "shopping_list_1 = {\n",
    "    1:1,\n",
    "    2:4,\n",
    "    3:5,\n",
    "    4:3,\n",
    "    5:4,\n",
    "    6:2,\n",
    "    7:4,\n",
    "    8:1,\n",
    "    9:8,\n",
    "    10:1\n",
    "}"
   ]
  },
  {
   "cell_type": "code",
   "execution_count": 61,
   "metadata": {},
   "outputs": [],
   "source": [
    "def calc_values(dict_shopping_list_1):\n",
    "    total_values = 0\n",
    "\n",
    "    for key,amount in dict_shopping_list_1.items():   \n",
    "        total_values += amount * item[prod_id[key]]\n",
    "\n",
    "    return total_values"
   ]
  },
  {
   "cell_type": "code",
   "execution_count": 62,
   "metadata": {},
   "outputs": [
    {
     "data": {
      "text/plain": [
       "7100"
      ]
     },
     "execution_count": 62,
     "metadata": {},
     "output_type": "execute_result"
    }
   ],
   "source": [
    "calc_values(shopping_list_1)"
   ]
  },
  {
   "cell_type": "code",
   "execution_count": 63,
   "metadata": {},
   "outputs": [],
   "source": [
    "#2\n",
    "def calc_values_2(dict_shopping_list_1):\n",
    "    total_values = 0\n",
    "\n",
    "    for key,amount in dict_shopping_list_1.items():   \n",
    "        total_values += amount * item[prod_id[key]]\n",
    "\n",
    "    return total_values * 1.08"
   ]
  },
  {
   "cell_type": "code",
   "execution_count": 64,
   "metadata": {},
   "outputs": [
    {
     "data": {
      "text/plain": [
       "7668.000000000001"
      ]
     },
     "execution_count": 64,
     "metadata": {},
     "output_type": "execute_result"
    }
   ],
   "source": [
    "calc_values_2(shopping_list_1)"
   ]
  },
  {
   "cell_type": "code",
   "execution_count": 65,
   "metadata": {},
   "outputs": [
    {
     "data": {
      "text/plain": [
       "1.08"
      ]
     },
     "execution_count": 65,
     "metadata": {},
     "output_type": "execute_result"
    }
   ],
   "source": [
    "calc_values_2(shopping_list_1)/calc_values(shopping_list_1)"
   ]
  },
  {
   "cell_type": "code",
   "execution_count": 66,
   "metadata": {},
   "outputs": [],
   "source": [
    "#3\n",
    "def calc_values_3(dict_shopping_list_1):\n",
    "    total_values = 0\n",
    "\n",
    "    for key,amount in dict_shopping_list_1.items():\n",
    "        tax = 1.08\n",
    "        if prod_id[key] == \"タバコ\":\n",
    "            tax = 1\n",
    "\n",
    "        total_values += amount * item[prod_id[key]] * tax\n",
    "\n",
    "    return total_values"
   ]
  },
  {
   "cell_type": "code",
   "execution_count": 67,
   "metadata": {},
   "outputs": [
    {
     "data": {
      "text/plain": [
       "2.0000000000000218"
      ]
     },
     "execution_count": 67,
     "metadata": {},
     "output_type": "execute_result"
    }
   ],
   "source": [
    "(calc_values_2(shopping_list_1) - calc_values_3(shopping_list_1)) / 0.08 /420"
   ]
  },
  {
   "cell_type": "code",
   "execution_count": 68,
   "metadata": {},
   "outputs": [],
   "source": [
    "#4\n",
    "def calc_values_4(dict_shopping_list_1):\n",
    "    total_values = 0\n",
    "\n",
    "    for key,amount in dict_shopping_list_1.items():\n",
    "        tax = 1.08\n",
    "        if prod_id[key] == \"タバコ\":\n",
    "            tax = 1\n",
    "        if prod_id[key] == \"りんご\" and amount >= 3:\n",
    "            total_values -= 20 * (amount//3) * tax #20円引き✖️税金\n",
    "\n",
    "        total_values += amount * item[prod_id[key]] * tax\n",
    "\n",
    "    return total_values\n"
   ]
  },
  {
   "cell_type": "code",
   "execution_count": 69,
   "metadata": {},
   "outputs": [
    {
     "data": {
      "text/plain": [
       "0.0"
      ]
     },
     "execution_count": 69,
     "metadata": {},
     "output_type": "execute_result"
    }
   ],
   "source": [
    "(calc_values_3(shopping_list_1) - calc_values_4(shopping_list_1)) / 0.08"
   ]
  },
  {
   "cell_type": "code",
   "execution_count": 70,
   "metadata": {},
   "outputs": [],
   "source": [
    "shopping_list_2 = {\n",
    "    1:3,\n",
    "    2:4,\n",
    "    3:5,\n",
    "    4:3,\n",
    "    5:12,\n",
    "    6:2,\n",
    "    7:4,\n",
    "    8:1,\n",
    "    9:8,\n",
    "    10:1\n",
    "}"
   ]
  },
  {
   "cell_type": "code",
   "execution_count": 71,
   "metadata": {},
   "outputs": [
    {
     "data": {
      "text/plain": [
       "19.99999999999865"
      ]
     },
     "execution_count": 71,
     "metadata": {},
     "output_type": "execute_result"
    }
   ],
   "source": [
    "(calc_values_3(shopping_list_2) - calc_values_4(shopping_list_2)) / 1.08"
   ]
  },
  {
   "cell_type": "code",
   "execution_count": 72,
   "metadata": {},
   "outputs": [],
   "source": [
    "#5\n",
    "def calc_values_5(dict_shopping_list):\n",
    "    total_values = 0\n",
    "\n",
    "    for key,amount in dict_shopping_list.items():\n",
    "        tax = 1.08\n",
    "        if prod_id[key] == \"タバコ\":\n",
    "            tax = 1\n",
    "        if prod_id[key] == \"りんご\" and amount >= 3:\n",
    "            total_values -= 20 * (amount//3) * tax #20円引き✖️税金\n",
    "        amount -= amount//11\n",
    "\n",
    "        total_values += amount * item[prod_id[key]] * tax\n",
    "\n",
    "    return total_values"
   ]
  },
  {
   "cell_type": "code",
   "execution_count": 73,
   "metadata": {},
   "outputs": [
    {
     "data": {
      "text/plain": [
       "400.0"
      ]
     },
     "execution_count": 73,
     "metadata": {},
     "output_type": "execute_result"
    }
   ],
   "source": [
    "(calc_values_4(shopping_list_2) - calc_values_5(shopping_list_2)) / 1.08"
   ]
  },
  {
   "cell_type": "code",
   "execution_count": 74,
   "metadata": {},
   "outputs": [],
   "source": [
    "shopping_list_3 = {\n",
    "    1:3,\n",
    "    2:4,\n",
    "    3:5,\n",
    "    4:3,\n",
    "    5:32,\n",
    "    6:2,\n",
    "    7:4,\n",
    "    8:1,\n",
    "    9:8,\n",
    "    10:1\n",
    "}"
   ]
  },
  {
   "cell_type": "code",
   "execution_count": 75,
   "metadata": {},
   "outputs": [
    {
     "data": {
      "text/plain": [
       "800.0"
      ]
     },
     "execution_count": 75,
     "metadata": {},
     "output_type": "execute_result"
    }
   ],
   "source": [
    "(calc_values_4(shopping_list_3) - calc_values_5(shopping_list_3)) / 1.08"
   ]
  },
  {
   "cell_type": "code",
   "execution_count": 76,
   "metadata": {},
   "outputs": [],
   "source": [
    "#6\n",
    "def calc_values_6(dict_shopping_list):\n",
    "    total_values = 0\n",
    "\n",
    "    for key,amount in dict_shopping_list.items():\n",
    "        tax = 1.08\n",
    "        if prod_id[key] == \"タバコ\":\n",
    "            tax = 1\n",
    "        if prod_id[key] == \"りんご\" and amount >= 3:\n",
    "            total_values -= 20 * (amount//3) * tax #20円引き✖️税金\n",
    "        if prod_id[key] == \"ライター\" and dict_shopping_list[6] >= 10:\n",
    "            amount -= dict_shopping_list[6]//10\n",
    "            if amount <0:\n",
    "                amount = 0\n",
    "\n",
    "        amount -= amount//11\n",
    "\n",
    "        total_values += amount * item[prod_id[key]] * tax\n",
    "\n",
    "    return total_values"
   ]
  },
  {
   "cell_type": "code",
   "execution_count": 77,
   "metadata": {},
   "outputs": [
    {
     "data": {
      "text/plain": [
       "0.0"
      ]
     },
     "execution_count": 77,
     "metadata": {},
     "output_type": "execute_result"
    }
   ],
   "source": [
    "(calc_values_5(shopping_list_3) - calc_values_6(shopping_list_3)) / 1.08"
   ]
  },
  {
   "cell_type": "code",
   "execution_count": 78,
   "metadata": {},
   "outputs": [],
   "source": [
    "shopping_list_4 = {\n",
    "    1:3,\n",
    "    2:4,\n",
    "    3:5,\n",
    "    4:3,\n",
    "    5:32,\n",
    "    6:21,\n",
    "    7:4,\n",
    "    8:1,\n",
    "    9:8,\n",
    "    10:1\n",
    "}"
   ]
  },
  {
   "cell_type": "code",
   "execution_count": 79,
   "metadata": {},
   "outputs": [
    {
     "data": {
      "text/plain": [
       "100.0"
      ]
     },
     "execution_count": 79,
     "metadata": {},
     "output_type": "execute_result"
    }
   ],
   "source": [
    "(calc_values_5(shopping_list_4) - calc_values_6(shopping_list_4)) / 1.08"
   ]
  },
  {
   "cell_type": "code",
   "execution_count": 80,
   "metadata": {},
   "outputs": [],
   "source": [
    "shopping_list_5 = {\n",
    "    1:3,\n",
    "    2:4,\n",
    "    3:5,\n",
    "    4:3,\n",
    "    5:32,\n",
    "    6:21,\n",
    "    7:4,\n",
    "    8:3,\n",
    "    9:8,\n",
    "    10:1\n",
    "}"
   ]
  },
  {
   "cell_type": "code",
   "execution_count": 81,
   "metadata": {},
   "outputs": [
    {
     "data": {
      "text/plain": [
       "200.0"
      ]
     },
     "execution_count": 81,
     "metadata": {},
     "output_type": "execute_result"
    }
   ],
   "source": [
    "(calc_values_5(shopping_list_5) - calc_values_6(shopping_list_5)) / 1.08"
   ]
  },
  {
   "cell_type": "code",
   "execution_count": 82,
   "metadata": {},
   "outputs": [],
   "source": [
    "#7\n",
    "def calc_values_7(dict_shopping_list):\n",
    "    total_values = 0\n",
    "\n",
    "    for key,amount in dict_shopping_list.items():\n",
    "        tax = 1.08\n",
    "        if prod_id[key] == \"タバコ\":\n",
    "            tax = 1\n",
    "        if prod_id[key] == \"りんご\" and amount >= 3:\n",
    "            total_values -= 20 * (amount//3) * tax #20円引き✖️税金\n",
    "        if prod_id[key] == \"ライター\" and dict_shopping_list[6] >= 10:\n",
    "            amount -= dict_shopping_list[6]//10\n",
    "            if amount <0:\n",
    "                amount = 0\n",
    "\n",
    "        amount -= amount//11\n",
    "\n",
    "        total_values += amount * item[prod_id[key]] * tax\n",
    "    \n",
    "    bento = dict_shopping_list[4] + dict_shopping_list[5] #弁当の購入数\n",
    "    #print(bento)\n",
    "    drink = dict_shopping_list[9] + dict_shopping_list[10] #飲み物の購入数\n",
    "    #print(drink)\n",
    "    total_values -= 20 * min(bento, drink) * tax #assert(tax == 1.08)\n",
    "    #print(min(bento,drink))\n",
    "\n",
    "    return total_values"
   ]
  },
  {
   "cell_type": "code",
   "execution_count": 83,
   "metadata": {},
   "outputs": [
    {
     "data": {
      "text/plain": [
       "9.000000000000068"
      ]
     },
     "execution_count": 83,
     "metadata": {},
     "output_type": "execute_result"
    }
   ],
   "source": [
    "(calc_values_6(shopping_list_5) - calc_values_7(shopping_list_5)) / 1.08 / 20"
   ]
  },
  {
   "cell_type": "code",
   "execution_count": 84,
   "metadata": {},
   "outputs": [],
   "source": [
    "#8\n",
    "#容量の節約を意識して実装したが、配列を使った方が綺麗に実装できそう\n",
    "def calc_values_8(dict_shopping_list):\n",
    "    total_values = 0\n",
    "    discount = 0\n",
    "\n",
    "    for key,amount in dict_shopping_list.items():\n",
    "        tax = 1.08\n",
    "        dc = 0 #割引用の変数\n",
    "\n",
    "        if prod_id[key] == \"タバコ\":\n",
    "            tax = 1\n",
    "        if prod_id[key] == \"りんご\": #4\n",
    "            dc = 20 * (amount//3) * tax #20円引き✖️税金 \n",
    "            #print('apple %d',dc)\n",
    "        if prod_id[key] == \"ライター\" and dict_shopping_list[6] >= 10: #6\n",
    "            dc = dict_shopping_list[6]//10\n",
    "            if dc > amount:\n",
    "                dc = amount\n",
    "            dc *= item[prod_id[key]] * tax\n",
    "            #print('raita %d',dc)\n",
    "        \n",
    "        dc = max(dc,amount//11 * item[prod_id[key]] * tax) #5\n",
    "        #print('amount',prod_id[key],amount//11 * item[prod_id[key]]* tax)\n",
    "        discount = max(discount, dc)\n",
    "        total_values += amount * item[prod_id[key]] * tax\n",
    "        #print('disc',discount)\n",
    "    \n",
    "    bento = dict_shopping_list[4] + dict_shopping_list[5] #弁当の購入数\n",
    "    drink = dict_shopping_list[9] + dict_shopping_list[10] #飲み物の購入数\n",
    "    discount = max(discount,20 * min(bento, drink) * tax) #assert(tax == 1.08) #7\n",
    "    #print('bento %d',20 * min(bento, drink) * tax,tax)\n",
    "\n",
    "    #print('disc',discount)\n",
    "    total_values -= discount\n",
    "    return total_values"
   ]
  },
  {
   "cell_type": "code",
   "execution_count": 85,
   "metadata": {},
   "outputs": [
    {
     "data": {
      "text/plain": [
       "864.0"
      ]
     },
     "execution_count": 85,
     "metadata": {},
     "output_type": "execute_result"
    }
   ],
   "source": [
    "(calc_values_3(shopping_list_5) - calc_values_8(shopping_list_5))"
   ]
  },
  {
   "cell_type": "code",
   "execution_count": 86,
   "metadata": {},
   "outputs": [
    {
     "data": {
      "text/plain": [
       "864.0"
      ]
     },
     "execution_count": 86,
     "metadata": {},
     "output_type": "execute_result"
    }
   ],
   "source": [
    "(calc_values_3(shopping_list_5) - calc_values_8(shopping_list_5))"
   ]
  },
  {
   "cell_type": "code",
   "execution_count": 87,
   "metadata": {},
   "outputs": [],
   "source": [
    "#9\n",
    "from datetime import datetime as dt\n",
    "def calc_values_9(dict_shopping_list, time):\n",
    "    total_values = 0\n",
    "    discount = 0\n",
    "    flg_time = 0\n",
    "    t = dt.strptime(time, '%H:%M:%S')\n",
    "    if t.hour >= 20:\n",
    "        flg_time = 1\n",
    "\n",
    "    for key,amount in dict_shopping_list.items():\n",
    "        tax = 1.08\n",
    "        dc = 0\n",
    "\n",
    "        if prod_id[key] == \"タバコ\":\n",
    "            tax = 1\n",
    "        if prod_id[key] == \"りんご\":\n",
    "            dc = 20 * (amount//3) * tax\n",
    "        if prod_id[key] == \"ライター\" and dict_shopping_list[6] >= 10:\n",
    "            dc = dict_shopping_list[6]//10\n",
    "            if dc > amount:\n",
    "                dc = amount\n",
    "            dc *= item[prod_id[key]] * tax\n",
    "        if prod_id[key] in (\"のり弁\",\"しゃけ弁\") and flg_time: #のり弁としゃけ弁は別々の割引として実装\n",
    "            dc  = amount * item[prod_id[key]] * tax /2\n",
    "\n",
    "        dc = max(dc,amount//11 * item[prod_id[key]] * tax)\n",
    "        discount = max(discount, dc)\n",
    "        total_values += amount * item[prod_id[key]] * tax\n",
    "    \n",
    "    bento = dict_shopping_list[4] + dict_shopping_list[5]\n",
    "    drink = dict_shopping_list[9] + dict_shopping_list[10]\n",
    "    discount = max(discount,20 * min(bento, drink) * tax) #assert(tax == 1.08)\n",
    "\n",
    "    total_values -= discount\n",
    "    return total_values"
   ]
  },
  {
   "cell_type": "code",
   "execution_count": 88,
   "metadata": {},
   "outputs": [
    {
     "data": {
      "text/plain": [
       "6048.0"
      ]
     },
     "execution_count": 88,
     "metadata": {},
     "output_type": "execute_result"
    }
   ],
   "source": [
    "(calc_values_8(shopping_list_5) - calc_values_9(shopping_list_5,'21:00:00'))"
   ]
  },
  {
   "cell_type": "code",
   "execution_count": 89,
   "metadata": {},
   "outputs": [
    {
     "data": {
      "text/plain": [
       "0.0"
      ]
     },
     "execution_count": 89,
     "metadata": {},
     "output_type": "execute_result"
    }
   ],
   "source": [
    "(calc_values_8(shopping_list_5) - calc_values_9(shopping_list_5,'19:00:00'))"
   ]
  },
  {
   "cell_type": "code",
   "execution_count": 90,
   "metadata": {},
   "outputs": [
    {
     "data": {
      "text/plain": [
       "1.0"
      ]
     },
     "execution_count": 90,
     "metadata": {},
     "output_type": "execute_result"
    }
   ],
   "source": [
    "(calc_values_3(shopping_list_5) - calc_values_9(shopping_list_5,'21:00:00'))/32/200/1.08"
   ]
  },
  {
   "cell_type": "code",
   "execution_count": 91,
   "metadata": {},
   "outputs": [],
   "source": [
    "#10\n",
    "from datetime import datetime as dt\n",
    "def calc_values_10(dict_shopping_list, time):\n",
    "    total_values = 0\n",
    "    discount = 0\n",
    "    flg_time = 0\n",
    "    t = dt.strptime(time, '%H:%M:%S')\n",
    "    if t.hour >= 20:\n",
    "        flg_time = 1\n",
    "\n",
    "    for key,amount in dict_shopping_list.items():\n",
    "        tax = 1.08\n",
    "        dc = 0\n",
    "\n",
    "        if prod_id[key] == \"タバコ\":\n",
    "            tax = 1\n",
    "        if prod_id[key] == \"りんご\":\n",
    "            dc = 20 * (amount//3) * tax\n",
    "        if prod_id[key] == \"ライター\" and dict_shopping_list[6] >= 10:\n",
    "            dc = dict_shopping_list[6]//10\n",
    "            if dc > amount:\n",
    "                dc = amount\n",
    "            dc *= item[prod_id[key]] * tax\n",
    "        if prod_id[key] in (\"のり弁\",\"しゃけ弁\") and flg_time: #のり弁としゃけ弁は別々の割引として実装\n",
    "            total_values -= amount * item[prod_id[key]] * tax /2\n",
    "\n",
    "        dc = max(dc,amount//11 * item[prod_id[key]] * tax)\n",
    "        discount = max(discount, dc)\n",
    "        total_values += amount * item[prod_id[key]] * tax\n",
    "    \n",
    "    bento = dict_shopping_list[4] + dict_shopping_list[5]\n",
    "    drink = dict_shopping_list[9] + dict_shopping_list[10]\n",
    "    discount = max(discount,20 * min(bento, drink) * tax) #assert(tax == 1.08)\n",
    "\n",
    "    total_values -= discount\n",
    "    return total_values"
   ]
  },
  {
   "cell_type": "code",
   "execution_count": 92,
   "metadata": {},
   "outputs": [
    {
     "data": {
      "text/plain": [
       "1.08203125"
      ]
     },
     "execution_count": 92,
     "metadata": {},
     "output_type": "execute_result"
    }
   ],
   "source": [
    "(calc_values_8(shopping_list_5) - calc_values_10(shopping_list_5,'21:00:00'))/32/200/1.08"
   ]
  },
  {
   "cell_type": "code",
   "execution_count": 93,
   "metadata": {},
   "outputs": [
    {
     "data": {
      "text/plain": [
       "0.0"
      ]
     },
     "execution_count": 93,
     "metadata": {},
     "output_type": "execute_result"
    }
   ],
   "source": [
    "(calc_values_8(shopping_list_5) - calc_values_10(shopping_list_5,'19:00:00'))/32/200/1.08"
   ]
  },
  {
   "cell_type": "code",
   "execution_count": null,
   "metadata": {},
   "outputs": [],
   "source": []
  }
 ],
 "metadata": {
  "kernelspec": {
   "display_name": "base",
   "language": "python",
   "name": "python3"
  },
  "language_info": {
   "codemirror_mode": {
    "name": "ipython",
    "version": 3
   },
   "file_extension": ".py",
   "mimetype": "text/x-python",
   "name": "python",
   "nbconvert_exporter": "python",
   "pygments_lexer": "ipython3",
   "version": "3.10.9"
  },
  "orig_nbformat": 4
 },
 "nbformat": 4,
 "nbformat_minor": 2
}
