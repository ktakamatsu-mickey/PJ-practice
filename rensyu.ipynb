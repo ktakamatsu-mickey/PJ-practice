{
 "cells": [
  {
   "cell_type": "markdown",
   "metadata": {},
   "source": [
    "\n",
    "# スーパーの支払金額計算\n",
    "\n",
    "スーパーで買い物したときの支払金額を計算する\n",
    "\n",
    "以下の商品リストがあるとする。先頭の数字は商品番号。\n",
    "\n",
    "1. りんご 100円\n",
    "2. みかん 40円\n",
    "3. ぶどう 150円\n",
    "4. のり弁 350円\n",
    "5. しゃけ弁 400円\n",
    "6. タバコ 420円\n",
    "7. メンソールタバコ 440円\n",
    "8. ライター 100円\n",
    "9. お茶 80円\n",
    "10. コーヒー 100円\n",
    "\n",
    "以下の順番で、仕様を追加・実装していく。\n",
    "\n",
    "## お題1 合計金額\n",
    "\n",
    "商品番号と個数を複数組、引数として受け取り、合計金額を計算する関数を書いてみよう。\n",
    "\n",
    "ヒント: 複数のものを受け取るために、配列やリストで一括で渡す方法がある。あるいは、1つ渡す関数を何回も呼び出して、最後に合計金額を計算する関数を呼び出すという形式もある。両方のアプローチをTDDで実装し見比べて、どちらが良いか判断してみよう。\n",
    "\n",
    "いきなり書くのが難しかったら、以下の補題をやってみるとよい。\n",
    "\n",
    "### 補題1\n",
    "\n",
    "商品番号を渡すと、1個あたりの金額を計算する関数を書いてみよう。\n",
    "\n",
    "### 補題2\n",
    "\n",
    "商品番号を複数渡すと、個数1個として金額を合計する関数を書いてみよう。\n",
    "\n",
    "## お題2 消費税\n",
    "\n",
    "商品リストの金額は外税なので、合計金額に消費税8％を足して、支払金額を返すようにしよう。\n",
    "\n",
    "## お題3 タバコの消費税\n",
    "\n",
    "タバコの価格には消費税が含まれているので(内税)、消費税の計算からタバコは除かないといけない。\n",
    "\n",
    "## お題4 割引\n",
    "\n",
    "リンゴは1個100円だが、3つ買うと280円になる。\n",
    "\n",
    "## お題5 おまけ\n",
    "\n",
    "なんでも、同じものを10個買うと、1個おまけでもらえる。11個で10個ぶんの金額（12個で11個分、20個で19個分、22個で20個ぶん、...)という形で実現しよう。\n",
    "\n",
    "## お題6 おまけのライター\n",
    "\n",
    "タバコを1カートン(10個)買うと、ライターがおまけでもらえる。引数にライターがあったら無料になるというふうに実現しよう。\n",
    "\n",
    "## お題7 お弁当\n",
    "\n",
    "弁当類と飲み物(お茶とコーヒー)をいっしょに買うと、20円引きになる。\n",
    "\n",
    "## お題8 サービスしすぎない\n",
    "\n",
    "お題4～7のようなサービスは、同じ商品については重複しない。一番安くなるものをひとつだけ適用する。\n",
    "\n",
    "## お題9 タイムセール\n",
    "\n",
    "お弁当は20時を過ぎると半額になる。\n",
    "\n",
    "## お題10 タイムセールとサービス\n",
    "\n",
    "お弁当のタイムセールは、他のサービスと重複してよい。"
   ]
  },
  {
   "cell_type": "code",
   "execution_count": 61,
   "metadata": {},
   "outputs": [],
   "source": [
    "#問１\n",
    "#辞書型\n",
    "item = {\n",
    "    \"りんご\":100,\n",
    "    \"みかん\":40,\n",
    "    \"ぶどう\":150,\n",
    "    \"のり弁\":350,\n",
    "    \"しゃけ弁\":400,\n",
    "    \"タバコ\":420,\n",
    "    \"メンソールタバコ\":440,\n",
    "    \"ライター\":100,\n",
    "    \"お茶\":80,\n",
    "    \"コーヒー\":100\n",
    "}"
   ]
  },
  {
   "cell_type": "code",
   "execution_count": 62,
   "metadata": {},
   "outputs": [
    {
     "name": "stdout",
     "output_type": "stream",
     "text": [
      "dict_keys(['りんご', 'みかん', 'ぶどう', 'のり弁', 'しゃけ弁', 'タバコ', 'メンソールタバコ', 'ライター', 'お茶', 'コーヒー'])\n",
      "dict_values([100, 40, 150, 350, 400, 420, 440, 100, 80, 100])\n",
      "100\n",
      "りんご\n",
      "100\n"
     ]
    }
   ],
   "source": [
    "#辞書　使い方\n",
    "\n",
    "print(item.keys())\n",
    "print(item.values())\n",
    "print(item[\"りんご\"])\n",
    "print(list(item.keys())[0])\n",
    "print(list(item.values())[0])"
   ]
  },
  {
   "cell_type": "code",
   "execution_count": 63,
   "metadata": {},
   "outputs": [
    {
     "data": {
      "text/plain": [
       "{'りんご': 1, 'みかん': 4}"
      ]
     },
     "execution_count": 63,
     "metadata": {},
     "output_type": "execute_result"
    }
   ],
   "source": [
    "#1\n",
    "shopping_list = {\n",
    "    \"りんご\":1,\n",
    "    \"みかん\":4\n",
    "}\n",
    "#     \"ぶどう\":5,\n",
    "#     \"のり弁\":3,\n",
    "#     \"しゃけ弁\":4,\n",
    "#     \"タバコ\":2,\n",
    "#     \"メンソールタバコ\":4,\n",
    "#     \"ライター\":1,\n",
    "#     \"お茶\":8,\n",
    "#     \"コーヒー\":1\n",
    "# }\n",
    "\n",
    "\n",
    "shopping_list"
   ]
  },
  {
   "cell_type": "code",
   "execution_count": 64,
   "metadata": {},
   "outputs": [
    {
     "data": {
      "text/plain": [
       "260"
      ]
     },
     "execution_count": 64,
     "metadata": {},
     "output_type": "execute_result"
    }
   ],
   "source": [
    "total_values = 0\n",
    "\n",
    "for key in shopping_list:   \n",
    "    total_values += shopping_list[key] * item[key]\n",
    "\n",
    "total_values\n"
   ]
  },
  {
   "cell_type": "code",
   "execution_count": 65,
   "metadata": {},
   "outputs": [
    {
     "data": {
      "text/plain": [
       "260"
      ]
     },
     "execution_count": 65,
     "metadata": {},
     "output_type": "execute_result"
    }
   ],
   "source": [
    "total_values = 0\n",
    "\n",
    "for key,amount in shopping_list.items():   \n",
    "    total_values += amount * item[key]\n",
    "\n",
    "total_values"
   ]
  },
  {
   "cell_type": "code",
   "execution_count": 66,
   "metadata": {},
   "outputs": [],
   "source": [
    "# def calc_values1(dict_item,dict_shopping_list):\n",
    "#     total_values = 0\n",
    "\n",
    "#     for key,amount in dict_shopping_list.items():   \n",
    "#         total_values += amount * dict_item[key]\n",
    "\n",
    "#     return total_values"
   ]
  },
  {
   "cell_type": "code",
   "execution_count": 67,
   "metadata": {},
   "outputs": [],
   "source": [
    "def calc_values2(dict_shopping_list):\n",
    "    total_values = 0\n",
    "\n",
    "    for key,amount in dict_shopping_list.items():   \n",
    "        total_values += amount * item[key]\n",
    "\n",
    "    return total_values"
   ]
  },
  {
   "cell_type": "code",
   "execution_count": 68,
   "metadata": {},
   "outputs": [
    {
     "data": {
      "text/plain": [
       "{1: 'りんご',\n",
       " 2: 'みかん',\n",
       " 3: 'ぶどう',\n",
       " 4: 'のり弁',\n",
       " 5: 'しゃけ弁',\n",
       " 6: 'タバコ',\n",
       " 7: 'メンソールタバコ',\n",
       " 8: 'ライター',\n",
       " 9: 'お茶',\n",
       " 10: 'コーヒー'}"
      ]
     },
     "execution_count": 68,
     "metadata": {},
     "output_type": "execute_result"
    }
   ],
   "source": [
    "prod_id={\n",
    "    1:\"りんご\",\n",
    "    2:\"みかん\",\n",
    "    3:\"ぶどう\",\n",
    "    4:\"のり弁\",\n",
    "    5:\"しゃけ弁\",\n",
    "    6:\"タバコ\",\n",
    "    7:\"メンソールタバコ\",\n",
    "    8:\"ライター\",\n",
    "    9:\"お茶\",\n",
    "    10:\"コーヒー\"\n",
    "}\n",
    "prod_id"
   ]
  },
  {
   "attachments": {},
   "cell_type": "markdown",
   "metadata": {},
   "source": [
    "shoopping list 1"
   ]
  },
  {
   "cell_type": "code",
   "execution_count": 69,
   "metadata": {},
   "outputs": [],
   "source": [
    "shopping_list = {\n",
    "    1:1,\n",
    "    2:4,\n",
    "    3:5,\n",
    "    4:6,\n",
    "    5:9,\n",
    "    6:9, \n",
    "    7:5,\n",
    "    8:2,\n",
    "    9:3,\n",
    "    10:4 }"
   ]
  },
  {
   "cell_type": "code",
   "execution_count": 70,
   "metadata": {},
   "outputs": [],
   "source": [
    "#問１\n",
    "#辞書型\n",
    "item = {\n",
    "    \"りんご\":100,\n",
    "    \"みかん\":40,\n",
    "    \"ぶどう\":150,\n",
    "    \"のり弁\":350,\n",
    "    \"しゃけ弁\":400,\n",
    "    \"タバコ\":420,\n",
    "    \"メンソールタバコ\":440,\n",
    "    \"ライター\":100,\n",
    "    \"お茶\":80,\n",
    "    \"コーヒー\":100\n",
    "}"
   ]
  },
  {
   "cell_type": "code",
   "execution_count": 71,
   "metadata": {},
   "outputs": [],
   "source": [
    "def calc_values(dict_shopping_list_1):\n",
    "    total_values = 0\n",
    "\n",
    "    for key,amount in dict_shopping_list_1.items():   \n",
    "        total_values += amount * item[prod_id[key]]\n",
    "\n",
    "    return total_values"
   ]
  },
  {
   "cell_type": "code",
   "execution_count": 72,
   "metadata": {},
   "outputs": [
    {
     "data": {
      "text/plain": [
       "13530"
      ]
     },
     "execution_count": 72,
     "metadata": {},
     "output_type": "execute_result"
    }
   ],
   "source": [
    "calc_values(shopping_list)\n",
    "\n",
    "#ここまで問１"
   ]
  },
  {
   "attachments": {},
   "cell_type": "markdown",
   "metadata": {},
   "source": [
    "問題点\n",
    "商品ごとの小数点に対する丸め込みが必要　問２"
   ]
  },
  {
   "attachments": {},
   "cell_type": "markdown",
   "metadata": {},
   "source": [
    "問１"
   ]
  },
  {
   "cell_type": "code",
   "execution_count": 73,
   "metadata": {},
   "outputs": [],
   "source": [
    "def calc_values(amount, key):\n",
    "    return amount * item[prod_id[key]]"
   ]
  },
  {
   "cell_type": "code",
   "execution_count": 74,
   "metadata": {},
   "outputs": [
    {
     "data": {
      "text/plain": [
       "600"
      ]
     },
     "execution_count": 74,
     "metadata": {},
     "output_type": "execute_result"
    }
   ],
   "source": [
    "calc_values(4, 3)"
   ]
  },
  {
   "attachments": {},
   "cell_type": "markdown",
   "metadata": {},
   "source": [
    "問２"
   ]
  },
  {
   "cell_type": "code",
   "execution_count": 75,
   "metadata": {},
   "outputs": [],
   "source": [
    "#問２\n",
    "tax = 1.08\n",
    "def tax_sy(dict_shopping_list_1, key):\n",
    "    t = 1 if key in (6,7) else tax\n",
    "    return dict_shopping_list_1*t\n"
   ]
  },
  {
   "attachments": {},
   "cell_type": "markdown",
   "metadata": {},
   "source": [
    "問３"
   ]
  },
  {
   "cell_type": "code",
   "execution_count": 76,
   "metadata": {},
   "outputs": [],
   "source": [
    "#問３\n",
    "def tabaco(dict_shopping_list):\n",
    "    global item\n",
    "    for key,amount in dict_shopping_list.items():\n",
    "        if key == 6:\n",
    "            return amount * item[prod_id[key]]\n",
    "#タバコの値段だけ取り出す      "
   ]
  },
  {
   "cell_type": "code",
   "execution_count": 77,
   "metadata": {},
   "outputs": [],
   "source": [
    "tax = 1.08\n",
    "def ta_val(dict_shopping_list, tax):\n",
    "    return tax_sy(dict_shopping_list) + tabaco(dict_shopping_list) - tabaco(dict_shopping_list)*tax\n"
   ]
  },
  {
   "cell_type": "code",
   "execution_count": 78,
   "metadata": {},
   "outputs": [],
   "source": [
    "#ta_val(shopping_list)"
   ]
  },
  {
   "attachments": {},
   "cell_type": "markdown",
   "metadata": {},
   "source": [
    "## 問４"
   ]
  },
  {
   "cell_type": "code",
   "execution_count": 79,
   "metadata": {},
   "outputs": [],
   "source": [
    "#問４\n",
    "#りんごの端数を判定\n",
    "def apple_dev(sales_price ,apple_amount, key):\n",
    "    if key == 1:\n",
    "        return  sales_price -apple_amount//3 * 20\n",
    "    else:\n",
    "        return sales_price"
   ]
  },
  {
   "cell_type": "code",
   "execution_count": 80,
   "metadata": {},
   "outputs": [
    {
     "data": {
      "text/plain": [
       "140"
      ]
     },
     "execution_count": 80,
     "metadata": {},
     "output_type": "execute_result"
    }
   ],
   "source": [
    "a = apple_dev(200,10,1)\n",
    "a"
   ]
  },
  {
   "attachments": {},
   "cell_type": "markdown",
   "metadata": {},
   "source": [
    "### 問５"
   ]
  },
  {
   "cell_type": "code",
   "execution_count": 81,
   "metadata": {},
   "outputs": [],
   "source": [
    "#11個で割って、1を超える場合にその数を引く\n",
    "def eleven_dev(sales_price, each_price, sales_amount):\n",
    "    return sales_price - sales_amount//11 * each_price"
   ]
  },
  {
   "cell_type": "code",
   "execution_count": 82,
   "metadata": {},
   "outputs": [
    {
     "data": {
      "text/plain": [
       "200"
      ]
     },
     "execution_count": 82,
     "metadata": {},
     "output_type": "execute_result"
    }
   ],
   "source": [
    "eleven_dev(2000, 200, 100)"
   ]
  },
  {
   "attachments": {},
   "cell_type": "markdown",
   "metadata": {},
   "source": [
    "### 問6"
   ]
  },
  {
   "cell_type": "code",
   "execution_count": 83,
   "metadata": {},
   "outputs": [],
   "source": [
    "#おまけのライター\n",
    "tabaco_count = 0\n",
    "def ten_count(amount, key):\n",
    "    if key in (6,7) and amount >= 10:\n",
    "        return 1  \n",
    "    else:\n",
    "        return 0\n",
    "            "
   ]
  },
  {
   "cell_type": "code",
   "execution_count": 84,
   "metadata": {},
   "outputs": [
    {
     "data": {
      "text/plain": [
       "1"
      ]
     },
     "execution_count": 84,
     "metadata": {},
     "output_type": "execute_result"
    }
   ],
   "source": [
    "a = ten_count(30,7)\n",
    "\n",
    "a"
   ]
  },
  {
   "cell_type": "code",
   "execution_count": 85,
   "metadata": {},
   "outputs": [],
   "source": [
    "#ライターに応じて、割り引く\n",
    "def lighter_dev(tabaco_count, sales_price, amount, key):\n",
    "   if tabaco_count >= 1 and key == 8 and amount >= 1:   \n",
    "      return sales_price - item[prod_id[key]]\n",
    "   else:\n",
    "      return sales_price"
   ]
  },
  {
   "attachments": {},
   "cell_type": "markdown",
   "metadata": {},
   "source": [
    "### 問７：お弁当"
   ]
  },
  {
   "cell_type": "code",
   "execution_count": 86,
   "metadata": {},
   "outputs": [],
   "source": [
    "#弁当と飲み物を一個ずつ買うごとに20円安くなると解釈\n",
    "def bento_set():\n",
    "    bento_count = shopping_list[4] + shopping_list[5]\n",
    "    tea_count =  shopping_list[8] + shopping_list[9] \n",
    "    if bento_count >= tea_count:\n",
    "        return tea_count*20\n",
    "    else:\n",
    "        return bento_count*20\n",
    "\n",
    "def bento_dev(sales_price, key):\n",
    "    if key == 9:\n",
    "        return sales_price - bento_set()\n",
    "    else:\n",
    "        return sales_price             \n"
   ]
  },
  {
   "cell_type": "code",
   "execution_count": 87,
   "metadata": {},
   "outputs": [
    {
     "data": {
      "text/plain": [
       "300"
      ]
     },
     "execution_count": 87,
     "metadata": {},
     "output_type": "execute_result"
    }
   ],
   "source": [
    "bento_dev(400, 9)"
   ]
  },
  {
   "attachments": {},
   "cell_type": "markdown",
   "metadata": {},
   "source": [
    "### 問８"
   ]
  },
  {
   "cell_type": "code",
   "execution_count": 101,
   "metadata": {},
   "outputs": [],
   "source": [
    "#各々の割引適用後の各商品ごとの合計金額で、最も小さいものを返す\n",
    "def dev_compare(sales_price, amount, key, tabaco_count):\n",
    "    return min(apple_dev(sales_price, amount, key), eleven_dev(sales_price, item[prod_id[key]], amount), \n",
    "               lighter_dev(tabaco_count ,sales_price, amount, key), bento_dev(sales_price, key))\n",
    "    "
   ]
  },
  {
   "cell_type": "code",
   "execution_count": 105,
   "metadata": {},
   "outputs": [
    {
     "data": {
      "text/plain": [
       "1200"
      ]
     },
     "execution_count": 105,
     "metadata": {},
     "output_type": "execute_result"
    }
   ],
   "source": [
    "dev_compare(1200, 4, 7, 0)"
   ]
  },
  {
   "attachments": {},
   "cell_type": "markdown",
   "metadata": {},
   "source": [
    "## 問9"
   ]
  },
  {
   "cell_type": "code",
   "execution_count": 114,
   "metadata": {},
   "outputs": [],
   "source": [
    "import datetime\n",
    "def sale_time(sales_price, key):\n",
    "    time = datetime.datetime.now()\n",
    "    if time.hour > 20 and key in (4, 5):\n",
    "        return sales_price//2\n",
    "    else:\n",
    "      return sales_price"
   ]
  },
  {
   "cell_type": "code",
   "execution_count": 112,
   "metadata": {},
   "outputs": [
    {
     "name": "stdout",
     "output_type": "stream",
     "text": [
      "16\n"
     ]
    }
   ],
   "source": [
    "time = datetime.datetime.now()\n",
    "print(time.hour)"
   ]
  },
  {
   "cell_type": "code",
   "execution_count": 113,
   "metadata": {},
   "outputs": [
    {
     "data": {
      "text/plain": [
       "183"
      ]
     },
     "execution_count": 113,
     "metadata": {},
     "output_type": "execute_result"
    }
   ],
   "source": [
    "sale_time(183,6)"
   ]
  },
  {
   "attachments": {},
   "cell_type": "markdown",
   "metadata": {},
   "source": [
    "main関数"
   ]
  },
  {
   "cell_type": "code",
   "execution_count": 115,
   "metadata": {},
   "outputs": [],
   "source": [
    "item = {\n",
    "    \"りんご\":100,\n",
    "    \"みかん\":40,\n",
    "    \"ぶどう\":150,\n",
    "    \"のり弁\":350,\n",
    "    \"しゃけ弁\":400,\n",
    "    \"タバコ\":420,\n",
    "    \"メンソールタバコ\":440,\n",
    "    \"ライター\":100,\n",
    "    \"お茶\":80,\n",
    "    \"コーヒー\":100\n",
    "}\n",
    "\n",
    "shopping_list = {\n",
    "    1:1,\n",
    "    2:4,\n",
    "    3:5,\n",
    "    4:6,\n",
    "    5:9,\n",
    "    6:9, \n",
    "    7:5,\n",
    "    8:2,\n",
    "    9:3,\n",
    "    10:4 }\n",
    "\n",
    "\n",
    "def main(dict_shopping_list):\n",
    "    #各商品ごとに値を計算\n",
    "    total_values = 0 \n",
    "    tabaco_count = 0\n",
    "    sales_price = 0\n",
    "    for key,amount in dict_shopping_list.items():\n",
    "        sales_price = 0\n",
    "        sales_price = calc_values(amount, key) #問１:個数*商品の値段の関係\n",
    "        tabaco_count += ten_count(amount, key) #問6用のカウンター\n",
    "        sales_price = dev_compare(sales_price, amount, key, tabaco_count) # 問４〜７までの割引と、その割引額が最大となる問８の関数\n",
    "        print(sales_price)\n",
    "        sales_price = sale_time(sales_price, key) #問９\n",
    "        print(sales_price)\n",
    "        sales_price = tax_sy(sales_price, key) #問２,問３:消費税とタバコの関係 後に持ってくる\n",
    "        \n",
    "\n",
    "        total_values += sales_price\n",
    "\n",
    "    return total_values\n",
    "    "
   ]
  },
  {
   "cell_type": "code",
   "execution_count": 107,
   "metadata": {},
   "outputs": [
    {
     "data": {
      "text/plain": [
       "14026.000000000002"
      ]
     },
     "execution_count": 107,
     "metadata": {},
     "output_type": "execute_result"
    }
   ],
   "source": [
    "main(shopping_list)"
   ]
  },
  {
   "cell_type": "code",
   "execution_count": 116,
   "metadata": {},
   "outputs": [],
   "source": [
    "shopping_list = {\n",
    "    1:0,\n",
    "    2:0,\n",
    "    3:0,\n",
    "    4:10,\n",
    "    5:9,\n",
    "    6:0, \n",
    "    7:0,\n",
    "    8:0,\n",
    "    9:0,\n",
    "    10:0 }\n",
    "\n"
   ]
  },
  {
   "cell_type": "code",
   "execution_count": 117,
   "metadata": {},
   "outputs": [
    {
     "name": "stdout",
     "output_type": "stream",
     "text": [
      "0\n",
      "0\n",
      "0\n",
      "0\n",
      "0\n",
      "0\n",
      "3500\n",
      "1750\n",
      "3600\n",
      "1800\n",
      "0\n",
      "0\n",
      "0\n",
      "0\n",
      "0\n",
      "0\n",
      "0\n",
      "0\n",
      "0\n",
      "0\n"
     ]
    },
    {
     "data": {
      "text/plain": [
       "3834.0000000000005"
      ]
     },
     "execution_count": 117,
     "metadata": {},
     "output_type": "execute_result"
    }
   ],
   "source": [
    "main(shopping_list)"
   ]
  },
  {
   "cell_type": "code",
   "execution_count": null,
   "metadata": {},
   "outputs": [],
   "source": []
  }
 ],
 "metadata": {
  "kernelspec": {
   "display_name": "base",
   "language": "python",
   "name": "python3"
  },
  "language_info": {
   "codemirror_mode": {
    "name": "ipython",
    "version": 3
   },
   "file_extension": ".py",
   "mimetype": "text/x-python",
   "name": "python",
   "nbconvert_exporter": "python",
   "pygments_lexer": "ipython3",
   "version": "3.9.6"
  },
  "orig_nbformat": 4
 },
 "nbformat": 4,
 "nbformat_minor": 2
}
