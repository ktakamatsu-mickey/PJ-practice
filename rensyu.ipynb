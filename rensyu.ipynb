{
 "cells": [
  {
   "cell_type": "markdown",
   "metadata": {},
   "source": [
    "\n",
    "# スーパーの支払金額計算\n",
    "\n",
    "スーパーで買い物したときの支払金額を計算する\n",
    "\n",
    "以下の商品リストがあるとする。先頭の数字は商品番号。\n",
    "\n",
    "1. りんご 100円\n",
    "2. みかん 40円\n",
    "3. ぶどう 150円\n",
    "4. のり弁 350円\n",
    "5. しゃけ弁 400円\n",
    "6. タバコ 420円\n",
    "7. メンソールタバコ 440円\n",
    "8. ライター 100円\n",
    "9. お茶 80円\n",
    "10. コーヒー 100円\n",
    "\n",
    "以下の順番で、仕様を追加・実装していく。\n",
    "\n",
    "## お題1 合計金額\n",
    "\n",
    "商品番号と個数を複数組、引数として受け取り、合計金額を計算する関数を書いてみよう。\n",
    "\n",
    "ヒント: 複数のものを受け取るために、配列やリストで一括で渡す方法がある。あるいは、1つ渡す関数を何回も呼び出して、最後に合計金額を計算する関数を呼び出すという形式もある。両方のアプローチをTDDで実装し見比べて、どちらが良いか判断してみよう。\n",
    "\n",
    "いきなり書くのが難しかったら、以下の補題をやってみるとよい。\n",
    "\n",
    "### 補題1\n",
    "\n",
    "商品番号を渡すと、1個あたりの金額を計算する関数を書いてみよう。\n",
    "\n",
    "### 補題2\n",
    "\n",
    "商品番号を複数渡すと、個数1個として金額を合計する関数を書いてみよう。\n",
    "\n",
    "## お題2 消費税\n",
    "\n",
    "商品リストの金額は外税なので、合計金額に消費税8％を足して、支払金額を返すようにしよう。\n",
    "\n",
    "## お題3 タバコの消費税\n",
    "\n",
    "タバコの価格には消費税が含まれているので(内税)、消費税の計算からタバコは除かないといけない。\n",
    "\n",
    "## お題4 割引\n",
    "\n",
    "リンゴは1個100円だが、3つ買うと280円になる。\n",
    "\n",
    "## お題5 おまけ\n",
    "\n",
    "なんでも、同じものを10個買うと、1個おまけでもらえる。11個で10個ぶんの金額（12個で11個分、20個で19個分、22個で20個ぶん、...)という形で実現しよう。\n",
    "\n",
    "## お題6 おまけのライター\n",
    "\n",
    "タバコを1カートン(10個)買うと、ライターがおまけでもらえる。引数にライターがあったら無料になるというふうに実現しよう。\n",
    "\n",
    "## お題7 お弁当\n",
    "\n",
    "弁当類と飲み物(お茶とコーヒー)をいっしょに買うと、20円引きになる。\n",
    "\n",
    "## お題8 サービスしすぎない\n",
    "\n",
    "お題4～7のようなサービスは、同じ商品については重複しない。一番安くなるものをひとつだけ適用する。\n",
    "\n",
    "## お題9 タイムセール\n",
    "\n",
    "お弁当は20時を過ぎると半額になる。\n",
    "\n",
    "## お題10 タイムセールとサービス\n",
    "\n",
    "お弁当のタイムセールは、他のサービスと重複してよい。"
   ]
  },
  {
   "cell_type": "code",
   "execution_count": 2,
   "metadata": {},
   "outputs": [],
   "source": [
    "#問１\n",
    "#辞書型\n",
    "item = {\n",
    "    \"りんご\":100,\n",
    "    \"みかん\":40,\n",
    "    \"ぶどう\":150,\n",
    "    \"のり弁\":350,\n",
    "    \"しゃけ弁\":400,\n",
    "    \"タバコ\":420,\n",
    "    \"メンソールタバコ\":440,\n",
    "    \"ライター\":100,\n",
    "    \"お茶\":80,\n",
    "    \"コーヒー\":100\n",
    "}"
   ]
  },
  {
   "cell_type": "code",
   "execution_count": 17,
   "metadata": {},
   "outputs": [
    {
     "name": "stdout",
     "output_type": "stream",
     "text": [
      "dict_keys(['りんご', 'みかん', 'ぶどう', 'のり弁', 'しゃけ弁', 'タバコ', 'メンソールタバコ', 'ライター', 'お茶', 'コーヒー'])\n",
      "dict_values([100, 40, 150, 350, 400, 420, 440, 100, 80, 100])\n",
      "100\n",
      "りんご\n",
      "100\n"
     ]
    }
   ],
   "source": [
    "#辞書　使い方\n",
    "\n",
    "print(item.keys())\n",
    "print(item.values())\n",
    "print(item[\"りんご\"])\n",
    "print(list(item.keys())[0])\n",
    "print(list(item.values())[0])"
   ]
  },
  {
   "cell_type": "code",
   "execution_count": 18,
   "metadata": {},
   "outputs": [
    {
     "data": {
      "text/plain": [
       "{'りんご': 1, 'みかん': 4}"
      ]
     },
     "execution_count": 18,
     "metadata": {},
     "output_type": "execute_result"
    }
   ],
   "source": [
    "#1\n",
    "shopping_list = {\n",
    "    \"りんご\":1,\n",
    "    \"みかん\":4\n",
    "}\n",
    "#     \"ぶどう\":5,\n",
    "#     \"のり弁\":3,\n",
    "#     \"しゃけ弁\":4,\n",
    "#     \"タバコ\":2,\n",
    "#     \"メンソールタバコ\":4,\n",
    "#     \"ライター\":1,\n",
    "#     \"お茶\":8,\n",
    "#     \"コーヒー\":1\n",
    "# }\n",
    "\n",
    "\n",
    "shopping_list"
   ]
  },
  {
   "cell_type": "code",
   "execution_count": 19,
   "metadata": {},
   "outputs": [
    {
     "data": {
      "text/plain": [
       "260"
      ]
     },
     "execution_count": 19,
     "metadata": {},
     "output_type": "execute_result"
    }
   ],
   "source": [
    "total_values = 0\n",
    "\n",
    "for key in shopping_list:   \n",
    "    total_values += shopping_list[key] * item[key]\n",
    "\n",
    "total_values\n"
   ]
  },
  {
   "cell_type": "code",
   "execution_count": 20,
   "metadata": {},
   "outputs": [
    {
     "data": {
      "text/plain": [
       "260"
      ]
     },
     "execution_count": 20,
     "metadata": {},
     "output_type": "execute_result"
    }
   ],
   "source": [
    "total_values = 0\n",
    "\n",
    "for key,amount in shopping_list.items():   \n",
    "    total_values += amount * item[key]\n",
    "\n",
    "total_values"
   ]
  },
  {
   "cell_type": "code",
   "execution_count": 21,
   "metadata": {},
   "outputs": [],
   "source": [
    "# def calc_values1(dict_item,dict_shopping_list):\n",
    "#     total_values = 0\n",
    "\n",
    "#     for key,amount in dict_shopping_list.items():   \n",
    "#         total_values += amount * dict_item[key]\n",
    "\n",
    "#     return total_values"
   ]
  },
  {
   "cell_type": "code",
   "execution_count": 22,
   "metadata": {},
   "outputs": [],
   "source": [
    "def calc_values2(dict_shopping_list):\n",
    "    total_values = 0\n",
    "\n",
    "    for key,amount in dict_shopping_list.items():   \n",
    "        total_values += amount * item[key]\n",
    "\n",
    "    return total_values"
   ]
  },
  {
   "cell_type": "code",
   "execution_count": 23,
   "metadata": {},
   "outputs": [
    {
     "data": {
      "text/plain": [
       "{1: 'りんご',\n",
       " 2: 'みかん',\n",
       " 3: 'ぶどう',\n",
       " 4: 'のり弁',\n",
       " 5: 'しゃけ弁',\n",
       " 6: 'タバコ',\n",
       " 7: 'メンソールタバコ',\n",
       " 8: 'ライター',\n",
       " 9: 'お茶',\n",
       " 10: 'コーヒー'}"
      ]
     },
     "execution_count": 23,
     "metadata": {},
     "output_type": "execute_result"
    }
   ],
   "source": [
    "prod_id={\n",
    "    1:\"りんご\",\n",
    "    2:\"みかん\",\n",
    "    3:\"ぶどう\",\n",
    "    4:\"のり弁\",\n",
    "    5:\"しゃけ弁\",\n",
    "    6:\"タバコ\",\n",
    "    7:\"メンソールタバコ\",\n",
    "    8:\"ライター\",\n",
    "    9:\"お茶\",\n",
    "    10:\"コーヒー\"\n",
    "}\n",
    "prod_id"
   ]
  },
  {
   "attachments": {},
   "cell_type": "markdown",
   "metadata": {},
   "source": [
    "shoopping list 1"
   ]
  },
  {
   "cell_type": "code",
   "execution_count": 24,
   "metadata": {},
   "outputs": [],
   "source": [
    "shopping_list = {\n",
    "    1:1,\n",
    "    2:4,\n",
    "    3:5,\n",
    "    4:6,\n",
    "    5:9,\n",
    "    6:11, \n",
    "    7:5,\n",
    "    8:2,\n",
    "    9:3,\n",
    "    10:4 }"
   ]
  },
  {
   "cell_type": "code",
   "execution_count": 25,
   "metadata": {},
   "outputs": [],
   "source": [
    "#問１\n",
    "#辞書型\n",
    "item = {\n",
    "    \"りんご\":100,\n",
    "    \"みかん\":40,\n",
    "    \"ぶどう\":150,\n",
    "    \"のり弁\":350,\n",
    "    \"しゃけ弁\":400,\n",
    "    \"タバコ\":420,\n",
    "    \"メンソールタバコ\":440,\n",
    "    \"ライター\":100,\n",
    "    \"お茶\":80,\n",
    "    \"コーヒー\":100\n",
    "}"
   ]
  },
  {
   "cell_type": "code",
   "execution_count": 26,
   "metadata": {},
   "outputs": [],
   "source": [
    "def calc_values(dict_shopping_list_1):\n",
    "    total_values = 0\n",
    "\n",
    "    for key,amount in dict_shopping_list_1.items():   \n",
    "        total_values += amount * item[prod_id[key]]\n",
    "\n",
    "    return total_values"
   ]
  },
  {
   "cell_type": "code",
   "execution_count": 27,
   "metadata": {},
   "outputs": [
    {
     "data": {
      "text/plain": [
       "14370"
      ]
     },
     "execution_count": 27,
     "metadata": {},
     "output_type": "execute_result"
    }
   ],
   "source": [
    "calc_values(shopping_list)\n",
    "\n",
    "#ここまで問１"
   ]
  },
  {
   "attachments": {},
   "cell_type": "markdown",
   "metadata": {},
   "source": [
    "問題点\n",
    "商品ごとの小数点に対する丸め込みが必要　問２"
   ]
  },
  {
   "attachments": {},
   "cell_type": "markdown",
   "metadata": {},
   "source": [
    "問１"
   ]
  },
  {
   "attachments": {},
   "cell_type": "markdown",
   "metadata": {},
   "source": [
    "問２"
   ]
  },
  {
   "cell_type": "code",
   "execution_count": 15,
   "metadata": {},
   "outputs": [],
   "source": [
    "#問２\n",
    "tax = 1.08\n",
    "def tax_sy(dict_shopping_list_1, key):\n",
    "    t = 1 if key in (6,7) else tax\n",
    "    return dict_shopping_list_1*t\n"
   ]
  },
  {
   "attachments": {},
   "cell_type": "markdown",
   "metadata": {},
   "source": [
    "問３"
   ]
  },
  {
   "cell_type": "code",
   "execution_count": 29,
   "metadata": {},
   "outputs": [],
   "source": [
    "#問３\n",
    "def tabaco(dict_shopping_list):\n",
    "    global item\n",
    "    for key,amount in dict_shopping_list.items():\n",
    "        if key == 6:\n",
    "            return amount * item[prod_id[key]]\n",
    "#タバコの値段だけ取り出す      "
   ]
  },
  {
   "cell_type": "code",
   "execution_count": 13,
   "metadata": {},
   "outputs": [],
   "source": [
    "tax = 1.08\n",
    "def ta_val(dict_shopping_list, tax):\n",
    "    return tax_sy(dict_shopping_list) + tabaco(dict_shopping_list) - tabaco(dict_shopping_list)*tax\n"
   ]
  },
  {
   "cell_type": "code",
   "execution_count": 39,
   "metadata": {},
   "outputs": [],
   "source": [
    "#ta_val(shopping_list)"
   ]
  },
  {
   "cell_type": "code",
   "execution_count": 5,
   "metadata": {},
   "outputs": [],
   "source": [
    "#問４\n",
    "#りんごの端数を判定\n",
    "def apple_dev(a):\n",
    "    return a//3"
   ]
  },
  {
   "cell_type": "code",
   "execution_count": 3,
   "metadata": {},
   "outputs": [],
   "source": [
    "#a, b = apple_dev(33)"
   ]
  },
  {
   "cell_type": "code",
   "execution_count": 4,
   "metadata": {},
   "outputs": [],
   "source": [
    "a = apple_dev(100)"
   ]
  },
  {
   "cell_type": "code",
   "execution_count": 35,
   "metadata": {},
   "outputs": [
    {
     "data": {
      "text/plain": [
       "[33, 1]"
      ]
     },
     "execution_count": 35,
     "metadata": {},
     "output_type": "execute_result"
    }
   ],
   "source": [
    "a"
   ]
  },
  {
   "attachments": {},
   "cell_type": "markdown",
   "metadata": {},
   "source": [
    "main関数"
   ]
  },
  {
   "cell_type": "code",
   "execution_count": 7,
   "metadata": {},
   "outputs": [],
   "source": [
    "def main(dict_shopping_list):\n",
    "    #各商品ごとに値を計算\n",
    "    total_values = 0\n",
    "    for key,amount in dict_shopping_list.items():   \n",
    "        sales_price = amount * item[prod_id[key]]\n",
    "        if key != 6:\n",
    "            sales_price = tax_sy(sales_price) #問２,問３\n",
    "        else:\n",
    "            sales_price = sales_price\n",
    "        if  key == 1: #問４\n",
    "            sales_price -= apple_dev(item[prod_id[key]])*20 #割引をしています\n",
    "        \n",
    "        total_values += sales_price\n",
    "\n",
    "    return total_values\n",
    "    "
   ]
  },
  {
   "cell_type": "code",
   "execution_count": 138,
   "metadata": {},
   "outputs": [
    {
     "data": {
      "text/plain": [
       "15150.000000000002"
      ]
     },
     "execution_count": 138,
     "metadata": {},
     "output_type": "execute_result"
    }
   ],
   "source": [
    "main(shopping_list)"
   ]
  },
  {
   "cell_type": "code",
   "execution_count": null,
   "metadata": {},
   "outputs": [],
   "source": []
  }
 ],
 "metadata": {
  "kernelspec": {
   "display_name": "base",
   "language": "python",
   "name": "python3"
  },
  "language_info": {
   "codemirror_mode": {
    "name": "ipython",
    "version": 3
   },
   "file_extension": ".py",
   "mimetype": "text/x-python",
   "name": "python",
   "nbconvert_exporter": "python",
   "pygments_lexer": "ipython3",
   "version": "3.9.6"
  },
  "orig_nbformat": 4
 },
 "nbformat": 4,
 "nbformat_minor": 2
}
